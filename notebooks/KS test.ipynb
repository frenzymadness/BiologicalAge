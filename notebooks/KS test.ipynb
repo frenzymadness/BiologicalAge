{
 "cells": [
  {
   "cell_type": "code",
   "execution_count": 1,
   "metadata": {},
   "outputs": [],
   "source": [
    "%matplotlib inline"
   ]
  },
  {
   "cell_type": "code",
   "execution_count": 2,
   "metadata": {},
   "outputs": [],
   "source": [
    "from glob import glob\n",
    "from PIL import Image\n",
    "from matplotlib import pyplot as plt\n",
    "import numpy as np\n",
    "from scipy.stats import ks_2samp\n",
    "from IPython.core.display import display_html, display, HTML"
   ]
  },
  {
   "cell_type": "code",
   "execution_count": 3,
   "metadata": {},
   "outputs": [],
   "source": [
    "images = {}\n",
    "for image_path in glob('RTG/B/*'):\n",
    "    name = image_path.split('/')[-1]\n",
    "    images[name] = Image.open(image_path)"
   ]
  },
  {
   "cell_type": "code",
   "execution_count": 4,
   "metadata": {},
   "outputs": [
    {
     "data": {
      "text/plain": [
       "{'0_10_b.PNG': <PIL.PngImagePlugin.PngImageFile image mode=RGBA size=449x617 at 0x7F30EA308550>,\n",
       " '0_8_b.PNG': <PIL.PngImagePlugin.PngImageFile image mode=RGBA size=474x628 at 0x7F30EA308710>,\n",
       " '10_0_b.PNG': <PIL.PngImagePlugin.PngImageFile image mode=RGBA size=393x622 at 0x7F30EA308390>,\n",
       " '11_0_b.PNG': <PIL.PngImagePlugin.PngImageFile image mode=RGBA size=476x628 at 0x7F30EA308470>,\n",
       " '12_0_b.PNG': <PIL.PngImagePlugin.PngImageFile image mode=RGBA size=448x623 at 0x7F30EA2FC9B0>,\n",
       " '13_0_b.PNG': <PIL.PngImagePlugin.PngImageFile image mode=RGBA size=440x624 at 0x7F30EA2FCD30>,\n",
       " '14_0_b.PNG': <PIL.PngImagePlugin.PngImageFile image mode=RGBA size=352x622 at 0x7F30EA2FCF60>,\n",
       " '15_0_b.PNG': <PIL.PngImagePlugin.PngImageFile image mode=RGBA size=451x624 at 0x7F30EA308400>,\n",
       " '16_0_b.PNG': <PIL.PngImagePlugin.PngImageFile image mode=RGBA size=369x622 at 0x7F30EA308240>,\n",
       " '17_0_b.PNG': <PIL.PngImagePlugin.PngImageFile image mode=RGBA size=434x616 at 0x7F30EA308860>,\n",
       " '18_0_b.PNG': <PIL.PngImagePlugin.PngImageFile image mode=RGBA size=394x625 at 0x7F30EA3086A0>,\n",
       " '1_0_b.PNG': <PIL.PngImagePlugin.PngImageFile image mode=RGBA size=567x596 at 0x7F30EA2FCCC0>,\n",
       " '1_2_b.PNG': <PIL.PngImagePlugin.PngImageFile image mode=RGBA size=473x623 at 0x7F30EA2FCE10>,\n",
       " '1_4_b.PNG': <PIL.PngImagePlugin.PngImageFile image mode=RGBA size=460x603 at 0x7F30EA2FCE80>,\n",
       " '1_6_b.PNG': <PIL.PngImagePlugin.PngImageFile image mode=RGBA size=494x617 at 0x7F30EA2FCFD0>,\n",
       " '1_8_b.PNG': <PIL.PngImagePlugin.PngImageFile image mode=RGBA size=466x616 at 0x7F30EA2FCDA0>,\n",
       " '2_0_b.PNG': <PIL.PngImagePlugin.PngImageFile image mode=RGBA size=557x621 at 0x7F30EA3081D0>,\n",
       " '2_4_b.PNG': <PIL.PngImagePlugin.PngImageFile image mode=RGBA size=520x627 at 0x7F30EA3080F0>,\n",
       " '2_6_b.PNG': <PIL.PngImagePlugin.PngImageFile image mode=RGBA size=492x628 at 0x7F30EA3084E0>,\n",
       " '3_0_b.PNG': <PIL.PngImagePlugin.PngImageFile image mode=RGBA size=454x612 at 0x7F30EA308320>,\n",
       " '3_6_b.PNG': <PIL.PngImagePlugin.PngImageFile image mode=RGBA size=489x622 at 0x7F30EA3085C0>,\n",
       " '4_0_b.PNG': <PIL.PngImagePlugin.PngImageFile image mode=RGBA size=539x627 at 0x7F30EA37B1D0>,\n",
       " '4_6_b.PNG': <PIL.PngImagePlugin.PngImageFile image mode=RGBA size=480x622 at 0x7F30EA3082B0>,\n",
       " '5_0_b.PNG': <PIL.PngImagePlugin.PngImageFile image mode=RGBA size=499x619 at 0x7F30EA308160>,\n",
       " '5_6_b.PNG': <PIL.PngImagePlugin.PngImageFile image mode=RGBA size=537x616 at 0x7F30EA2FCEF0>,\n",
       " '6_0_b.PNG': <PIL.PngImagePlugin.PngImageFile image mode=RGBA size=363x622 at 0x7F30EA308080>,\n",
       " '7_0_b.PNG': <PIL.PngImagePlugin.PngImageFile image mode=RGBA size=485x630 at 0x7F30EA308630>,\n",
       " '8_0_b.PNG': <PIL.PngImagePlugin.PngImageFile image mode=RGBA size=494x619 at 0x7F30EA3087F0>,\n",
       " '9_0_b.PNG': <PIL.PngImagePlugin.PngImageFile image mode=RGBA size=391x630 at 0x7F30EA308780>}"
      ]
     },
     "execution_count": 4,
     "metadata": {},
     "output_type": "execute_result"
    }
   ],
   "source": [
    "images"
   ]
  },
  {
   "cell_type": "code",
   "execution_count": 5,
   "metadata": {
    "scrolled": true
   },
   "outputs": [],
   "source": [
    "histograms = {}\n",
    "for name, image in images.items():\n",
    "    histograms[name] = np.histogram(image.getdata(), bins=255, normed=True)[0]"
   ]
  },
  {
   "cell_type": "code",
   "execution_count": 6,
   "metadata": {},
   "outputs": [],
   "source": [
    "def ks_str(ks_result):\n",
    "    statistic = ks_result.statistic\n",
    "    pvalue = ks_result.pvalue\n",
    "    return \"s={:.4f} p={:.4f}\".format(statistic, pvalue)"
   ]
  },
  {
   "cell_type": "code",
   "execution_count": 7,
   "metadata": {},
   "outputs": [],
   "source": [
    "ks_data = {}\n",
    "for image1 in images.keys():\n",
    "    ks_data[image1] = {}\n",
    "    for image2 in images.keys():\n",
    "        ks = ks_2samp(histograms[image1], histograms[image2])\n",
    "        ks_data[image1][image2] = ks"
   ]
  },
  {
   "cell_type": "code",
   "execution_count": 19,
   "metadata": {},
   "outputs": [],
   "source": [
    "image_names = sorted(list(images.keys()), key=lambda x: [int(n) for n in x.split('_')[:2]])"
   ]
  },
  {
   "cell_type": "code",
   "execution_count": 20,
   "metadata": {},
   "outputs": [],
   "source": [
    "html_table = \"<table><tr><td></td>{}</tr>\".format(\"\".join([\"<td>{}</td>\".format(name) for name in image_names]))\n",
    "for image1 in image_names:\n",
    "    html_table += \"<tr><td>{}</td>\".format(image1)\n",
    "    for image2 in image_names:\n",
    "        ks = ks_data[image1][image2]\n",
    "        if ks.pvalue < 0.05:\n",
    "            html_table += \"<td>{}</td>\".format(ks_str(ks_data[image1][image2]))\n",
    "        else:\n",
    "            html_table += \"<td style='font-weight:bold;'>{}</td>\".format(ks_str(ks))\n",
    "    html_table += \"</tr>\"\n",
    "html_table += \"</table>\""
   ]
  },
  {
   "cell_type": "code",
   "execution_count": 21,
   "metadata": {
    "scrolled": true
   },
   "outputs": [
    {
     "data": {
      "text/html": [
       "<table><tr><td></td><td>0_8_b.PNG</td><td>0_10_b.PNG</td><td>1_0_b.PNG</td><td>1_2_b.PNG</td><td>1_4_b.PNG</td><td>1_6_b.PNG</td><td>1_8_b.PNG</td><td>2_0_b.PNG</td><td>2_4_b.PNG</td><td>2_6_b.PNG</td><td>3_0_b.PNG</td><td>3_6_b.PNG</td><td>4_0_b.PNG</td><td>4_6_b.PNG</td><td>5_0_b.PNG</td><td>5_6_b.PNG</td><td>6_0_b.PNG</td><td>7_0_b.PNG</td><td>8_0_b.PNG</td><td>9_0_b.PNG</td><td>10_0_b.PNG</td><td>11_0_b.PNG</td><td>12_0_b.PNG</td><td>13_0_b.PNG</td><td>14_0_b.PNG</td><td>15_0_b.PNG</td><td>16_0_b.PNG</td><td>17_0_b.PNG</td><td>18_0_b.PNG</td></tr><tr><td>0_8_b.PNG</td><td style='font-weight:bold;'>s=0.0000 p=1.0000</td><td>s=0.1569 p=0.0033</td><td>s=0.1843 p=0.0003</td><td>s=0.1333 p=0.0194</td><td style='font-weight:bold;'>s=0.0784 p=0.3986</td><td style='font-weight:bold;'>s=0.0902 p=0.2391</td><td style='font-weight:bold;'>s=0.0824 p=0.3392</td><td>s=0.1922 p=0.0001</td><td>s=0.2667 p=0.0000</td><td>s=0.1569 p=0.0033</td><td>s=0.2118 p=0.0000</td><td>s=0.1922 p=0.0001</td><td style='font-weight:bold;'>s=0.0941 p=0.1981</td><td>s=0.2549 p=0.0000</td><td>s=0.1294 p=0.0253</td><td>s=0.1922 p=0.0001</td><td>s=0.1647 p=0.0017</td><td>s=0.2078 p=0.0000</td><td>s=0.2235 p=0.0000</td><td>s=0.1647 p=0.0017</td><td>s=0.2353 p=0.0000</td><td>s=0.2471 p=0.0000</td><td>s=0.2392 p=0.0000</td><td>s=0.1961 p=0.0001</td><td>s=0.2078 p=0.0000</td><td>s=0.2314 p=0.0000</td><td>s=0.1647 p=0.0017</td><td>s=0.2863 p=0.0000</td><td>s=0.2157 p=0.0000</td></tr><tr><td>0_10_b.PNG</td><td>s=0.1569 p=0.0033</td><td style='font-weight:bold;'>s=0.0000 p=1.0000</td><td>s=0.2745 p=0.0000</td><td>s=0.2078 p=0.0000</td><td style='font-weight:bold;'>s=0.1098 p=0.0861</td><td>s=0.1490 p=0.0061</td><td>s=0.1569 p=0.0033</td><td>s=0.2471 p=0.0000</td><td>s=0.3451 p=0.0000</td><td>s=0.2196 p=0.0000</td><td>s=0.1922 p=0.0001</td><td>s=0.2510 p=0.0000</td><td>s=0.1608 p=0.0024</td><td>s=0.3961 p=0.0000</td><td>s=0.2118 p=0.0000</td><td>s=0.2902 p=0.0000</td><td>s=0.1922 p=0.0001</td><td>s=0.2745 p=0.0000</td><td>s=0.3176 p=0.0000</td><td>s=0.1647 p=0.0017</td><td>s=0.1608 p=0.0024</td><td>s=0.3843 p=0.0000</td><td>s=0.2863 p=0.0000</td><td>s=0.2196 p=0.0000</td><td style='font-weight:bold;'>s=0.1137 p=0.0685</td><td>s=0.3490 p=0.0000</td><td>s=0.1412 p=0.0110</td><td>s=0.3490 p=0.0000</td><td>s=0.2941 p=0.0000</td></tr><tr><td>1_0_b.PNG</td><td>s=0.1843 p=0.0003</td><td>s=0.2745 p=0.0000</td><td style='font-weight:bold;'>s=0.0000 p=1.0000</td><td>s=0.1490 p=0.0061</td><td>s=0.2157 p=0.0000</td><td>s=0.2314 p=0.0000</td><td>s=0.2118 p=0.0000</td><td>s=0.1608 p=0.0024</td><td>s=0.1804 p=0.0004</td><td>s=0.1843 p=0.0003</td><td>s=0.2353 p=0.0000</td><td style='font-weight:bold;'>s=0.0980 p=0.1628</td><td>s=0.1451 p=0.0082</td><td>s=0.1569 p=0.0033</td><td>s=0.1765 p=0.0006</td><td>s=0.1294 p=0.0253</td><td>s=0.2078 p=0.0000</td><td>s=0.2157 p=0.0000</td><td>s=0.1490 p=0.0061</td><td>s=0.1882 p=0.0002</td><td>s=0.2549 p=0.0000</td><td>s=0.1647 p=0.0017</td><td>s=0.1686 p=0.0012</td><td>s=0.2235 p=0.0000</td><td>s=0.2353 p=0.0000</td><td>s=0.1333 p=0.0194</td><td>s=0.1843 p=0.0003</td><td>s=0.2078 p=0.0000</td><td>s=0.2118 p=0.0000</td></tr><tr><td>1_2_b.PNG</td><td>s=0.1333 p=0.0194</td><td>s=0.2078 p=0.0000</td><td>s=0.1490 p=0.0061</td><td style='font-weight:bold;'>s=0.0000 p=1.0000</td><td>s=0.1647 p=0.0017</td><td>s=0.1412 p=0.0110</td><td>s=0.1608 p=0.0024</td><td>s=0.2000 p=0.0001</td><td>s=0.2353 p=0.0000</td><td>s=0.1451 p=0.0082</td><td>s=0.1882 p=0.0002</td><td>s=0.1608 p=0.0024</td><td>s=0.1333 p=0.0194</td><td>s=0.2549 p=0.0000</td><td style='font-weight:bold;'>s=0.0941 p=0.1981</td><td>s=0.2000 p=0.0001</td><td>s=0.1804 p=0.0004</td><td>s=0.2157 p=0.0000</td><td>s=0.2353 p=0.0000</td><td>s=0.1804 p=0.0004</td><td>s=0.2196 p=0.0000</td><td>s=0.2549 p=0.0000</td><td>s=0.2000 p=0.0001</td><td>s=0.1882 p=0.0002</td><td>s=0.1882 p=0.0002</td><td>s=0.2078 p=0.0000</td><td>s=0.1490 p=0.0061</td><td>s=0.2314 p=0.0000</td><td>s=0.1765 p=0.0006</td></tr><tr><td>1_4_b.PNG</td><td style='font-weight:bold;'>s=0.0784 p=0.3986</td><td style='font-weight:bold;'>s=0.1098 p=0.0861</td><td>s=0.2157 p=0.0000</td><td>s=0.1647 p=0.0017</td><td style='font-weight:bold;'>s=0.0000 p=1.0000</td><td style='font-weight:bold;'>s=0.0863 p=0.2860</td><td style='font-weight:bold;'>s=0.0824 p=0.3392</td><td>s=0.2314 p=0.0000</td><td>s=0.3059 p=0.0000</td><td>s=0.1922 p=0.0001</td><td>s=0.1922 p=0.0001</td><td>s=0.2392 p=0.0000</td><td>s=0.1294 p=0.0253</td><td>s=0.3137 p=0.0000</td><td>s=0.1569 p=0.0033</td><td>s=0.2353 p=0.0000</td><td>s=0.1843 p=0.0003</td><td>s=0.2392 p=0.0000</td><td>s=0.2824 p=0.0000</td><td>s=0.1725 p=0.0008</td><td>s=0.1765 p=0.0006</td><td>s=0.3098 p=0.0000</td><td>s=0.2863 p=0.0000</td><td>s=0.2000 p=0.0001</td><td>s=0.1490 p=0.0061</td><td>s=0.2745 p=0.0000</td><td>s=0.1333 p=0.0194</td><td>s=0.3294 p=0.0000</td><td>s=0.2588 p=0.0000</td></tr><tr><td>1_6_b.PNG</td><td style='font-weight:bold;'>s=0.0902 p=0.2391</td><td>s=0.1490 p=0.0061</td><td>s=0.2314 p=0.0000</td><td>s=0.1412 p=0.0110</td><td style='font-weight:bold;'>s=0.0863 p=0.2860</td><td style='font-weight:bold;'>s=0.0000 p=1.0000</td><td>s=0.1412 p=0.0110</td><td>s=0.2706 p=0.0000</td><td>s=0.2941 p=0.0000</td><td>s=0.2078 p=0.0000</td><td>s=0.2157 p=0.0000</td><td>s=0.2000 p=0.0001</td><td>s=0.1490 p=0.0061</td><td>s=0.3294 p=0.0000</td><td>s=0.1333 p=0.0194</td><td>s=0.2706 p=0.0000</td><td>s=0.1882 p=0.0002</td><td>s=0.2863 p=0.0000</td><td>s=0.3059 p=0.0000</td><td>s=0.1843 p=0.0003</td><td>s=0.2431 p=0.0000</td><td>s=0.3216 p=0.0000</td><td>s=0.2471 p=0.0000</td><td>s=0.2431 p=0.0000</td><td>s=0.2157 p=0.0000</td><td>s=0.2745 p=0.0000</td><td>s=0.1725 p=0.0008</td><td>s=0.2941 p=0.0000</td><td>s=0.2235 p=0.0000</td></tr><tr><td>1_8_b.PNG</td><td style='font-weight:bold;'>s=0.0824 p=0.3392</td><td>s=0.1569 p=0.0033</td><td>s=0.2118 p=0.0000</td><td>s=0.1608 p=0.0024</td><td style='font-weight:bold;'>s=0.0824 p=0.3392</td><td>s=0.1412 p=0.0110</td><td style='font-weight:bold;'>s=0.0000 p=1.0000</td><td>s=0.2157 p=0.0000</td><td>s=0.2980 p=0.0000</td><td>s=0.1804 p=0.0004</td><td>s=0.1882 p=0.0002</td><td>s=0.2235 p=0.0000</td><td>s=0.1216 p=0.0423</td><td>s=0.3294 p=0.0000</td><td>s=0.1569 p=0.0033</td><td>s=0.2235 p=0.0000</td><td>s=0.1765 p=0.0006</td><td>s=0.2157 p=0.0000</td><td>s=0.2431 p=0.0000</td><td>s=0.1569 p=0.0033</td><td>s=0.1922 p=0.0001</td><td>s=0.3137 p=0.0000</td><td>s=0.2706 p=0.0000</td><td>s=0.1961 p=0.0001</td><td>s=0.1686 p=0.0012</td><td>s=0.2824 p=0.0000</td><td>s=0.1216 p=0.0423</td><td>s=0.3216 p=0.0000</td><td>s=0.2471 p=0.0000</td></tr><tr><td>2_0_b.PNG</td><td>s=0.1922 p=0.0001</td><td>s=0.2471 p=0.0000</td><td>s=0.1608 p=0.0024</td><td>s=0.2000 p=0.0001</td><td>s=0.2314 p=0.0000</td><td>s=0.2706 p=0.0000</td><td>s=0.2157 p=0.0000</td><td style='font-weight:bold;'>s=0.0000 p=1.0000</td><td style='font-weight:bold;'>s=0.1176 p=0.0540</td><td>s=0.1647 p=0.0017</td><td>s=0.2118 p=0.0000</td><td>s=0.1529 p=0.0045</td><td>s=0.1608 p=0.0024</td><td>s=0.1608 p=0.0024</td><td>s=0.2039 p=0.0000</td><td style='font-weight:bold;'>s=0.0863 p=0.2860</td><td>s=0.2275 p=0.0000</td><td>s=0.1882 p=0.0002</td><td style='font-weight:bold;'>s=0.1137 p=0.0685</td><td>s=0.1843 p=0.0003</td><td>s=0.2314 p=0.0000</td><td>s=0.1490 p=0.0061</td><td>s=0.1412 p=0.0110</td><td>s=0.1922 p=0.0001</td><td>s=0.2863 p=0.0000</td><td style='font-weight:bold;'>s=0.1176 p=0.0540</td><td>s=0.1961 p=0.0001</td><td>s=0.1765 p=0.0006</td><td>s=0.1922 p=0.0001</td></tr><tr><td>2_4_b.PNG</td><td>s=0.2667 p=0.0000</td><td>s=0.3451 p=0.0000</td><td>s=0.1804 p=0.0004</td><td>s=0.2353 p=0.0000</td><td>s=0.3059 p=0.0000</td><td>s=0.2941 p=0.0000</td><td>s=0.2980 p=0.0000</td><td style='font-weight:bold;'>s=0.1176 p=0.0540</td><td style='font-weight:bold;'>s=0.0000 p=1.0000</td><td>s=0.1961 p=0.0001</td><td>s=0.2314 p=0.0000</td><td>s=0.1765 p=0.0006</td><td>s=0.2392 p=0.0000</td><td style='font-weight:bold;'>s=0.1098 p=0.0861</td><td>s=0.2275 p=0.0000</td><td>s=0.1529 p=0.0045</td><td>s=0.2549 p=0.0000</td><td>s=0.1451 p=0.0082</td><td>s=0.1608 p=0.0024</td><td>s=0.2196 p=0.0000</td><td>s=0.2431 p=0.0000</td><td>s=0.1529 p=0.0045</td><td>s=0.1529 p=0.0045</td><td>s=0.1569 p=0.0033</td><td>s=0.3098 p=0.0000</td><td style='font-weight:bold;'>s=0.1137 p=0.0685</td><td>s=0.2196 p=0.0000</td><td style='font-weight:bold;'>s=0.1176 p=0.0540</td><td>s=0.1373 p=0.0147</td></tr><tr><td>2_6_b.PNG</td><td>s=0.1569 p=0.0033</td><td>s=0.2196 p=0.0000</td><td>s=0.1843 p=0.0003</td><td>s=0.1451 p=0.0082</td><td>s=0.1922 p=0.0001</td><td>s=0.2078 p=0.0000</td><td>s=0.1804 p=0.0004</td><td>s=0.1647 p=0.0017</td><td>s=0.1961 p=0.0001</td><td style='font-weight:bold;'>s=0.0000 p=1.0000</td><td>s=0.1608 p=0.0024</td><td style='font-weight:bold;'>s=0.1176 p=0.0540</td><td style='font-weight:bold;'>s=0.0980 p=0.1628</td><td>s=0.2392 p=0.0000</td><td>s=0.1490 p=0.0061</td><td>s=0.1725 p=0.0008</td><td>s=0.1922 p=0.0001</td><td>s=0.1961 p=0.0001</td><td>s=0.2078 p=0.0000</td><td>s=0.1765 p=0.0006</td><td>s=0.1725 p=0.0008</td><td>s=0.2314 p=0.0000</td><td style='font-weight:bold;'>s=0.0980 p=0.1628</td><td>s=0.1569 p=0.0033</td><td>s=0.2157 p=0.0000</td><td>s=0.1843 p=0.0003</td><td>s=0.1451 p=0.0082</td><td>s=0.1686 p=0.0012</td><td>s=0.2078 p=0.0000</td></tr><tr><td>3_0_b.PNG</td><td>s=0.2118 p=0.0000</td><td>s=0.1922 p=0.0001</td><td>s=0.2353 p=0.0000</td><td>s=0.1882 p=0.0002</td><td>s=0.1922 p=0.0001</td><td>s=0.2157 p=0.0000</td><td>s=0.1882 p=0.0002</td><td>s=0.2118 p=0.0000</td><td>s=0.2314 p=0.0000</td><td>s=0.1608 p=0.0024</td><td style='font-weight:bold;'>s=0.0000 p=1.0000</td><td>s=0.2000 p=0.0001</td><td>s=0.1490 p=0.0061</td><td>s=0.2706 p=0.0000</td><td>s=0.1961 p=0.0001</td><td>s=0.2235 p=0.0000</td><td>s=0.1412 p=0.0110</td><td>s=0.2157 p=0.0000</td><td>s=0.2510 p=0.0000</td><td style='font-weight:bold;'>s=0.1137 p=0.0685</td><td style='font-weight:bold;'>s=0.0745 p=0.4638</td><td>s=0.2706 p=0.0000</td><td>s=0.1765 p=0.0006</td><td>s=0.1647 p=0.0017</td><td>s=0.1412 p=0.0110</td><td>s=0.2157 p=0.0000</td><td style='font-weight:bold;'>s=0.1020 p=0.1327</td><td>s=0.2078 p=0.0000</td><td>s=0.1608 p=0.0024</td></tr><tr><td>3_6_b.PNG</td><td>s=0.1922 p=0.0001</td><td>s=0.2510 p=0.0000</td><td style='font-weight:bold;'>s=0.0980 p=0.1628</td><td>s=0.1608 p=0.0024</td><td>s=0.2392 p=0.0000</td><td>s=0.2000 p=0.0001</td><td>s=0.2235 p=0.0000</td><td>s=0.1529 p=0.0045</td><td>s=0.1765 p=0.0006</td><td style='font-weight:bold;'>s=0.1176 p=0.0540</td><td>s=0.2000 p=0.0001</td><td style='font-weight:bold;'>s=0.0000 p=1.0000</td><td style='font-weight:bold;'>s=0.1176 p=0.0540</td><td>s=0.2196 p=0.0000</td><td>s=0.1451 p=0.0082</td><td>s=0.1490 p=0.0061</td><td>s=0.1765 p=0.0006</td><td>s=0.2078 p=0.0000</td><td>s=0.1882 p=0.0002</td><td>s=0.1647 p=0.0017</td><td>s=0.1882 p=0.0002</td><td>s=0.2157 p=0.0000</td><td style='font-weight:bold;'>s=0.1098 p=0.0861</td><td>s=0.1647 p=0.0017</td><td>s=0.2078 p=0.0000</td><td>s=0.1608 p=0.0024</td><td>s=0.1490 p=0.0061</td><td>s=0.1608 p=0.0024</td><td>s=0.1843 p=0.0003</td></tr><tr><td>4_0_b.PNG</td><td style='font-weight:bold;'>s=0.0941 p=0.1981</td><td>s=0.1608 p=0.0024</td><td>s=0.1451 p=0.0082</td><td>s=0.1333 p=0.0194</td><td>s=0.1294 p=0.0253</td><td>s=0.1490 p=0.0061</td><td>s=0.1216 p=0.0423</td><td>s=0.1608 p=0.0024</td><td>s=0.2392 p=0.0000</td><td style='font-weight:bold;'>s=0.0980 p=0.1628</td><td>s=0.1490 p=0.0061</td><td style='font-weight:bold;'>s=0.1176 p=0.0540</td><td style='font-weight:bold;'>s=0.0000 p=1.0000</td><td>s=0.2980 p=0.0000</td><td style='font-weight:bold;'>s=0.0941 p=0.1981</td><td>s=0.2000 p=0.0001</td><td>s=0.1255 p=0.0329</td><td>s=0.1765 p=0.0006</td><td>s=0.2314 p=0.0000</td><td style='font-weight:bold;'>s=0.1137 p=0.0685</td><td>s=0.1608 p=0.0024</td><td>s=0.2863 p=0.0000</td><td>s=0.1647 p=0.0017</td><td>s=0.1294 p=0.0253</td><td>s=0.1490 p=0.0061</td><td>s=0.2392 p=0.0000</td><td style='font-weight:bold;'>s=0.0941 p=0.1981</td><td>s=0.2235 p=0.0000</td><td>s=0.1647 p=0.0017</td></tr><tr><td>4_6_b.PNG</td><td>s=0.2549 p=0.0000</td><td>s=0.3961 p=0.0000</td><td>s=0.1569 p=0.0033</td><td>s=0.2549 p=0.0000</td><td>s=0.3137 p=0.0000</td><td>s=0.3294 p=0.0000</td><td>s=0.3294 p=0.0000</td><td>s=0.1608 p=0.0024</td><td style='font-weight:bold;'>s=0.1098 p=0.0861</td><td>s=0.2392 p=0.0000</td><td>s=0.2706 p=0.0000</td><td>s=0.2196 p=0.0000</td><td>s=0.2980 p=0.0000</td><td style='font-weight:bold;'>s=0.0000 p=1.0000</td><td>s=0.2471 p=0.0000</td><td>s=0.1373 p=0.0147</td><td>s=0.2784 p=0.0000</td><td>s=0.1490 p=0.0061</td><td>s=0.1412 p=0.0110</td><td>s=0.2784 p=0.0000</td><td>s=0.2941 p=0.0000</td><td>s=0.1333 p=0.0194</td><td>s=0.1882 p=0.0002</td><td>s=0.2157 p=0.0000</td><td>s=0.3490 p=0.0000</td><td style='font-weight:bold;'>s=0.0941 p=0.1981</td><td>s=0.2706 p=0.0000</td><td>s=0.1333 p=0.0194</td><td>s=0.1412 p=0.0110</td></tr><tr><td>5_0_b.PNG</td><td>s=0.1294 p=0.0253</td><td>s=0.2118 p=0.0000</td><td>s=0.1765 p=0.0006</td><td style='font-weight:bold;'>s=0.0941 p=0.1981</td><td>s=0.1569 p=0.0033</td><td>s=0.1333 p=0.0194</td><td>s=0.1569 p=0.0033</td><td>s=0.2039 p=0.0000</td><td>s=0.2275 p=0.0000</td><td>s=0.1490 p=0.0061</td><td>s=0.1961 p=0.0001</td><td>s=0.1451 p=0.0082</td><td style='font-weight:bold;'>s=0.0941 p=0.1981</td><td>s=0.2471 p=0.0000</td><td style='font-weight:bold;'>s=0.0000 p=1.0000</td><td>s=0.2196 p=0.0000</td><td>s=0.1686 p=0.0012</td><td>s=0.2314 p=0.0000</td><td>s=0.2314 p=0.0000</td><td>s=0.1333 p=0.0194</td><td>s=0.1686 p=0.0012</td><td>s=0.2392 p=0.0000</td><td>s=0.1569 p=0.0033</td><td>s=0.1882 p=0.0002</td><td>s=0.1843 p=0.0003</td><td>s=0.2118 p=0.0000</td><td>s=0.1451 p=0.0082</td><td>s=0.1961 p=0.0001</td><td>s=0.1882 p=0.0002</td></tr><tr><td>5_6_b.PNG</td><td>s=0.1922 p=0.0001</td><td>s=0.2902 p=0.0000</td><td>s=0.1294 p=0.0253</td><td>s=0.2000 p=0.0001</td><td>s=0.2353 p=0.0000</td><td>s=0.2706 p=0.0000</td><td>s=0.2235 p=0.0000</td><td style='font-weight:bold;'>s=0.0863 p=0.2860</td><td>s=0.1529 p=0.0045</td><td>s=0.1725 p=0.0008</td><td>s=0.2235 p=0.0000</td><td>s=0.1490 p=0.0061</td><td>s=0.2000 p=0.0001</td><td>s=0.1373 p=0.0147</td><td>s=0.2196 p=0.0000</td><td style='font-weight:bold;'>s=0.0000 p=1.0000</td><td>s=0.2471 p=0.0000</td><td>s=0.2039 p=0.0000</td><td>s=0.1255 p=0.0329</td><td>s=0.1961 p=0.0001</td><td>s=0.2275 p=0.0000</td><td>s=0.1569 p=0.0033</td><td>s=0.1490 p=0.0061</td><td>s=0.1922 p=0.0001</td><td>s=0.2863 p=0.0000</td><td>s=0.1333 p=0.0194</td><td>s=0.2000 p=0.0001</td><td>s=0.1804 p=0.0004</td><td>s=0.2157 p=0.0000</td></tr><tr><td>6_0_b.PNG</td><td>s=0.1647 p=0.0017</td><td>s=0.1922 p=0.0001</td><td>s=0.2078 p=0.0000</td><td>s=0.1804 p=0.0004</td><td>s=0.1843 p=0.0003</td><td>s=0.1882 p=0.0002</td><td>s=0.1765 p=0.0006</td><td>s=0.2275 p=0.0000</td><td>s=0.2549 p=0.0000</td><td>s=0.1922 p=0.0001</td><td>s=0.1412 p=0.0110</td><td>s=0.1765 p=0.0006</td><td>s=0.1255 p=0.0329</td><td>s=0.2784 p=0.0000</td><td>s=0.1686 p=0.0012</td><td>s=0.2471 p=0.0000</td><td style='font-weight:bold;'>s=0.0000 p=1.0000</td><td>s=0.2510 p=0.0000</td><td>s=0.2588 p=0.0000</td><td>s=0.1373 p=0.0147</td><td style='font-weight:bold;'>s=0.0941 p=0.1981</td><td>s=0.2706 p=0.0000</td><td>s=0.1686 p=0.0012</td><td>s=0.2196 p=0.0000</td><td style='font-weight:bold;'>s=0.1020 p=0.1327</td><td>s=0.2392 p=0.0000</td><td style='font-weight:bold;'>s=0.0824 p=0.3392</td><td>s=0.2235 p=0.0000</td><td>s=0.1608 p=0.0024</td></tr><tr><td>7_0_b.PNG</td><td>s=0.2078 p=0.0000</td><td>s=0.2745 p=0.0000</td><td>s=0.2157 p=0.0000</td><td>s=0.2157 p=0.0000</td><td>s=0.2392 p=0.0000</td><td>s=0.2863 p=0.0000</td><td>s=0.2157 p=0.0000</td><td>s=0.1882 p=0.0002</td><td>s=0.1451 p=0.0082</td><td>s=0.1961 p=0.0001</td><td>s=0.2157 p=0.0000</td><td>s=0.2078 p=0.0000</td><td>s=0.1765 p=0.0006</td><td>s=0.1490 p=0.0061</td><td>s=0.2314 p=0.0000</td><td>s=0.2039 p=0.0000</td><td>s=0.2510 p=0.0000</td><td style='font-weight:bold;'>s=0.0000 p=1.0000</td><td>s=0.2078 p=0.0000</td><td>s=0.2039 p=0.0000</td><td>s=0.2392 p=0.0000</td><td>s=0.1294 p=0.0253</td><td>s=0.1569 p=0.0033</td><td style='font-weight:bold;'>s=0.0902 p=0.2391</td><td>s=0.3020 p=0.0000</td><td>s=0.1451 p=0.0082</td><td>s=0.2157 p=0.0000</td><td>s=0.1216 p=0.0423</td><td>s=0.1373 p=0.0147</td></tr><tr><td>8_0_b.PNG</td><td>s=0.2235 p=0.0000</td><td>s=0.3176 p=0.0000</td><td>s=0.1490 p=0.0061</td><td>s=0.2353 p=0.0000</td><td>s=0.2824 p=0.0000</td><td>s=0.3059 p=0.0000</td><td>s=0.2431 p=0.0000</td><td style='font-weight:bold;'>s=0.1137 p=0.0685</td><td>s=0.1608 p=0.0024</td><td>s=0.2078 p=0.0000</td><td>s=0.2510 p=0.0000</td><td>s=0.1882 p=0.0002</td><td>s=0.2314 p=0.0000</td><td>s=0.1412 p=0.0110</td><td>s=0.2314 p=0.0000</td><td>s=0.1255 p=0.0329</td><td>s=0.2588 p=0.0000</td><td>s=0.2078 p=0.0000</td><td style='font-weight:bold;'>s=0.0000 p=1.0000</td><td>s=0.2235 p=0.0000</td><td>s=0.2588 p=0.0000</td><td style='font-weight:bold;'>s=0.1020 p=0.1327</td><td>s=0.1647 p=0.0017</td><td>s=0.1608 p=0.0024</td><td>s=0.3255 p=0.0000</td><td style='font-weight:bold;'>s=0.1137 p=0.0685</td><td>s=0.2275 p=0.0000</td><td>s=0.1608 p=0.0024</td><td>s=0.2157 p=0.0000</td></tr><tr><td>9_0_b.PNG</td><td>s=0.1647 p=0.0017</td><td>s=0.1647 p=0.0017</td><td>s=0.1882 p=0.0002</td><td>s=0.1804 p=0.0004</td><td>s=0.1725 p=0.0008</td><td>s=0.1843 p=0.0003</td><td>s=0.1569 p=0.0033</td><td>s=0.1843 p=0.0003</td><td>s=0.2196 p=0.0000</td><td>s=0.1765 p=0.0006</td><td style='font-weight:bold;'>s=0.1137 p=0.0685</td><td>s=0.1647 p=0.0017</td><td style='font-weight:bold;'>s=0.1137 p=0.0685</td><td>s=0.2784 p=0.0000</td><td>s=0.1333 p=0.0194</td><td>s=0.1961 p=0.0001</td><td>s=0.1373 p=0.0147</td><td>s=0.2039 p=0.0000</td><td>s=0.2235 p=0.0000</td><td style='font-weight:bold;'>s=0.0000 p=1.0000</td><td style='font-weight:bold;'>s=0.1098 p=0.0861</td><td>s=0.2667 p=0.0000</td><td>s=0.1451 p=0.0082</td><td>s=0.1765 p=0.0006</td><td>s=0.1608 p=0.0024</td><td>s=0.2275 p=0.0000</td><td style='font-weight:bold;'>s=0.0941 p=0.1981</td><td>s=0.2118 p=0.0000</td><td>s=0.1608 p=0.0024</td></tr><tr><td>10_0_b.PNG</td><td>s=0.2353 p=0.0000</td><td>s=0.1608 p=0.0024</td><td>s=0.2549 p=0.0000</td><td>s=0.2196 p=0.0000</td><td>s=0.1765 p=0.0006</td><td>s=0.2431 p=0.0000</td><td>s=0.1922 p=0.0001</td><td>s=0.2314 p=0.0000</td><td>s=0.2431 p=0.0000</td><td>s=0.1725 p=0.0008</td><td style='font-weight:bold;'>s=0.0745 p=0.4638</td><td>s=0.1882 p=0.0002</td><td>s=0.1608 p=0.0024</td><td>s=0.2941 p=0.0000</td><td>s=0.1686 p=0.0012</td><td>s=0.2275 p=0.0000</td><td style='font-weight:bold;'>s=0.0941 p=0.1981</td><td>s=0.2392 p=0.0000</td><td>s=0.2588 p=0.0000</td><td style='font-weight:bold;'>s=0.1098 p=0.0861</td><td style='font-weight:bold;'>s=0.0000 p=1.0000</td><td>s=0.2863 p=0.0000</td><td>s=0.1490 p=0.0061</td><td>s=0.1882 p=0.0002</td><td style='font-weight:bold;'>s=0.1137 p=0.0685</td><td>s=0.2353 p=0.0000</td><td style='font-weight:bold;'>s=0.0745 p=0.4638</td><td>s=0.2196 p=0.0000</td><td>s=0.1647 p=0.0017</td></tr><tr><td>11_0_b.PNG</td><td>s=0.2471 p=0.0000</td><td>s=0.3843 p=0.0000</td><td>s=0.1647 p=0.0017</td><td>s=0.2549 p=0.0000</td><td>s=0.3098 p=0.0000</td><td>s=0.3216 p=0.0000</td><td>s=0.3137 p=0.0000</td><td>s=0.1490 p=0.0061</td><td>s=0.1529 p=0.0045</td><td>s=0.2314 p=0.0000</td><td>s=0.2706 p=0.0000</td><td>s=0.2157 p=0.0000</td><td>s=0.2863 p=0.0000</td><td>s=0.1333 p=0.0194</td><td>s=0.2392 p=0.0000</td><td>s=0.1569 p=0.0033</td><td>s=0.2706 p=0.0000</td><td>s=0.1294 p=0.0253</td><td style='font-weight:bold;'>s=0.1020 p=0.1327</td><td>s=0.2667 p=0.0000</td><td>s=0.2863 p=0.0000</td><td style='font-weight:bold;'>s=0.0000 p=1.0000</td><td>s=0.1843 p=0.0003</td><td>s=0.2000 p=0.0001</td><td>s=0.3373 p=0.0000</td><td style='font-weight:bold;'>s=0.1020 p=0.1327</td><td>s=0.2588 p=0.0000</td><td>s=0.1255 p=0.0329</td><td>s=0.1922 p=0.0001</td></tr><tr><td>12_0_b.PNG</td><td>s=0.2392 p=0.0000</td><td>s=0.2863 p=0.0000</td><td>s=0.1686 p=0.0012</td><td>s=0.2000 p=0.0001</td><td>s=0.2863 p=0.0000</td><td>s=0.2471 p=0.0000</td><td>s=0.2706 p=0.0000</td><td>s=0.1412 p=0.0110</td><td>s=0.1529 p=0.0045</td><td style='font-weight:bold;'>s=0.0980 p=0.1628</td><td>s=0.1765 p=0.0006</td><td style='font-weight:bold;'>s=0.1098 p=0.0861</td><td>s=0.1647 p=0.0017</td><td>s=0.1882 p=0.0002</td><td>s=0.1569 p=0.0033</td><td>s=0.1490 p=0.0061</td><td>s=0.1686 p=0.0012</td><td>s=0.1569 p=0.0033</td><td>s=0.1647 p=0.0017</td><td>s=0.1451 p=0.0082</td><td>s=0.1490 p=0.0061</td><td>s=0.1843 p=0.0003</td><td style='font-weight:bold;'>s=0.0000 p=1.0000</td><td>s=0.1412 p=0.0110</td><td>s=0.1961 p=0.0001</td><td>s=0.1333 p=0.0194</td><td>s=0.1804 p=0.0004</td><td>s=0.1255 p=0.0329</td><td>s=0.1804 p=0.0004</td></tr><tr><td>13_0_b.PNG</td><td>s=0.1961 p=0.0001</td><td>s=0.2196 p=0.0000</td><td>s=0.2235 p=0.0000</td><td>s=0.1882 p=0.0002</td><td>s=0.2000 p=0.0001</td><td>s=0.2431 p=0.0000</td><td>s=0.1961 p=0.0001</td><td>s=0.1922 p=0.0001</td><td>s=0.1569 p=0.0033</td><td>s=0.1569 p=0.0033</td><td>s=0.1647 p=0.0017</td><td>s=0.1647 p=0.0017</td><td>s=0.1294 p=0.0253</td><td>s=0.2157 p=0.0000</td><td>s=0.1882 p=0.0002</td><td>s=0.1922 p=0.0001</td><td>s=0.2196 p=0.0000</td><td style='font-weight:bold;'>s=0.0902 p=0.2391</td><td>s=0.1608 p=0.0024</td><td>s=0.1765 p=0.0006</td><td>s=0.1882 p=0.0002</td><td>s=0.2000 p=0.0001</td><td>s=0.1412 p=0.0110</td><td style='font-weight:bold;'>s=0.0000 p=1.0000</td><td>s=0.2471 p=0.0000</td><td>s=0.1647 p=0.0017</td><td>s=0.1647 p=0.0017</td><td>s=0.1569 p=0.0033</td><td>s=0.1255 p=0.0329</td></tr><tr><td>14_0_b.PNG</td><td>s=0.2078 p=0.0000</td><td style='font-weight:bold;'>s=0.1137 p=0.0685</td><td>s=0.2353 p=0.0000</td><td>s=0.1882 p=0.0002</td><td>s=0.1490 p=0.0061</td><td>s=0.2157 p=0.0000</td><td>s=0.1686 p=0.0012</td><td>s=0.2863 p=0.0000</td><td>s=0.3098 p=0.0000</td><td>s=0.2157 p=0.0000</td><td>s=0.1412 p=0.0110</td><td>s=0.2078 p=0.0000</td><td>s=0.1490 p=0.0061</td><td>s=0.3490 p=0.0000</td><td>s=0.1843 p=0.0003</td><td>s=0.2863 p=0.0000</td><td style='font-weight:bold;'>s=0.1020 p=0.1327</td><td>s=0.3020 p=0.0000</td><td>s=0.3255 p=0.0000</td><td>s=0.1608 p=0.0024</td><td style='font-weight:bold;'>s=0.1137 p=0.0685</td><td>s=0.3373 p=0.0000</td><td>s=0.1961 p=0.0001</td><td>s=0.2471 p=0.0000</td><td style='font-weight:bold;'>s=0.0000 p=1.0000</td><td>s=0.2941 p=0.0000</td><td style='font-weight:bold;'>s=0.1098 p=0.0861</td><td>s=0.2863 p=0.0000</td><td>s=0.2157 p=0.0000</td></tr><tr><td>15_0_b.PNG</td><td>s=0.2314 p=0.0000</td><td>s=0.3490 p=0.0000</td><td>s=0.1333 p=0.0194</td><td>s=0.2078 p=0.0000</td><td>s=0.2745 p=0.0000</td><td>s=0.2745 p=0.0000</td><td>s=0.2824 p=0.0000</td><td style='font-weight:bold;'>s=0.1176 p=0.0540</td><td style='font-weight:bold;'>s=0.1137 p=0.0685</td><td>s=0.1843 p=0.0003</td><td>s=0.2157 p=0.0000</td><td>s=0.1608 p=0.0024</td><td>s=0.2392 p=0.0000</td><td style='font-weight:bold;'>s=0.0941 p=0.1981</td><td>s=0.2118 p=0.0000</td><td>s=0.1333 p=0.0194</td><td>s=0.2392 p=0.0000</td><td>s=0.1451 p=0.0082</td><td style='font-weight:bold;'>s=0.1137 p=0.0685</td><td>s=0.2275 p=0.0000</td><td>s=0.2353 p=0.0000</td><td style='font-weight:bold;'>s=0.1020 p=0.1327</td><td>s=0.1333 p=0.0194</td><td>s=0.1647 p=0.0017</td><td>s=0.2941 p=0.0000</td><td style='font-weight:bold;'>s=0.0000 p=1.0000</td><td>s=0.2196 p=0.0000</td><td style='font-weight:bold;'>s=0.1059 p=0.1073</td><td>s=0.1294 p=0.0253</td></tr><tr><td>16_0_b.PNG</td><td>s=0.1647 p=0.0017</td><td>s=0.1412 p=0.0110</td><td>s=0.1843 p=0.0003</td><td>s=0.1490 p=0.0061</td><td>s=0.1333 p=0.0194</td><td>s=0.1725 p=0.0008</td><td>s=0.1216 p=0.0423</td><td>s=0.1961 p=0.0001</td><td>s=0.2196 p=0.0000</td><td>s=0.1451 p=0.0082</td><td style='font-weight:bold;'>s=0.1020 p=0.1327</td><td>s=0.1490 p=0.0061</td><td style='font-weight:bold;'>s=0.0941 p=0.1981</td><td>s=0.2706 p=0.0000</td><td>s=0.1451 p=0.0082</td><td>s=0.2000 p=0.0001</td><td style='font-weight:bold;'>s=0.0824 p=0.3392</td><td>s=0.2157 p=0.0000</td><td>s=0.2275 p=0.0000</td><td style='font-weight:bold;'>s=0.0941 p=0.1981</td><td style='font-weight:bold;'>s=0.0745 p=0.4638</td><td>s=0.2588 p=0.0000</td><td>s=0.1804 p=0.0004</td><td>s=0.1647 p=0.0017</td><td style='font-weight:bold;'>s=0.1098 p=0.0861</td><td>s=0.2196 p=0.0000</td><td style='font-weight:bold;'>s=0.0000 p=1.0000</td><td>s=0.2275 p=0.0000</td><td>s=0.1647 p=0.0017</td></tr><tr><td>17_0_b.PNG</td><td>s=0.2863 p=0.0000</td><td>s=0.3490 p=0.0000</td><td>s=0.2078 p=0.0000</td><td>s=0.2314 p=0.0000</td><td>s=0.3294 p=0.0000</td><td>s=0.2941 p=0.0000</td><td>s=0.3216 p=0.0000</td><td>s=0.1765 p=0.0006</td><td style='font-weight:bold;'>s=0.1176 p=0.0540</td><td>s=0.1686 p=0.0012</td><td>s=0.2078 p=0.0000</td><td>s=0.1608 p=0.0024</td><td>s=0.2235 p=0.0000</td><td>s=0.1333 p=0.0194</td><td>s=0.1961 p=0.0001</td><td>s=0.1804 p=0.0004</td><td>s=0.2235 p=0.0000</td><td>s=0.1216 p=0.0423</td><td>s=0.1608 p=0.0024</td><td>s=0.2118 p=0.0000</td><td>s=0.2196 p=0.0000</td><td>s=0.1255 p=0.0329</td><td>s=0.1255 p=0.0329</td><td>s=0.1569 p=0.0033</td><td>s=0.2863 p=0.0000</td><td style='font-weight:bold;'>s=0.1059 p=0.1073</td><td>s=0.2275 p=0.0000</td><td style='font-weight:bold;'>s=0.0000 p=1.0000</td><td style='font-weight:bold;'>s=0.0863 p=0.2860</td></tr><tr><td>18_0_b.PNG</td><td>s=0.2157 p=0.0000</td><td>s=0.2941 p=0.0000</td><td>s=0.2118 p=0.0000</td><td>s=0.1765 p=0.0006</td><td>s=0.2588 p=0.0000</td><td>s=0.2235 p=0.0000</td><td>s=0.2471 p=0.0000</td><td>s=0.1922 p=0.0001</td><td>s=0.1373 p=0.0147</td><td>s=0.2078 p=0.0000</td><td>s=0.1608 p=0.0024</td><td>s=0.1843 p=0.0003</td><td>s=0.1647 p=0.0017</td><td>s=0.1412 p=0.0110</td><td>s=0.1882 p=0.0002</td><td>s=0.2157 p=0.0000</td><td>s=0.1608 p=0.0024</td><td>s=0.1373 p=0.0147</td><td>s=0.2157 p=0.0000</td><td>s=0.1608 p=0.0024</td><td>s=0.1647 p=0.0017</td><td>s=0.1922 p=0.0001</td><td>s=0.1804 p=0.0004</td><td>s=0.1255 p=0.0329</td><td>s=0.2157 p=0.0000</td><td>s=0.1294 p=0.0253</td><td>s=0.1647 p=0.0017</td><td style='font-weight:bold;'>s=0.0863 p=0.2860</td><td style='font-weight:bold;'>s=0.0000 p=1.0000</td></tr></table>"
      ],
      "text/plain": [
       "<IPython.core.display.HTML object>"
      ]
     },
     "metadata": {},
     "output_type": "display_data"
    }
   ],
   "source": [
    "display(HTML(html_table))"
   ]
  },
  {
   "cell_type": "code",
   "execution_count": 16,
   "metadata": {},
   "outputs": [
    {
     "data": {
      "text/plain": [
       "['01_010', '0_10', '101_11', '10_0', '11_12', '11_13']"
      ]
     },
     "execution_count": 16,
     "metadata": {},
     "output_type": "execute_result"
    }
   ],
   "source": [
    "x = ['10_0', '0_10', '11_12', '01_010', '101_11', '11_13']\n",
    "sorted(x)"
   ]
  },
  {
   "cell_type": "code",
   "execution_count": 17,
   "metadata": {},
   "outputs": [
    {
     "data": {
      "text/plain": [
       "['0_10', '01_010', '10_0', '11_12', '11_13', '101_11']"
      ]
     },
     "execution_count": 17,
     "metadata": {},
     "output_type": "execute_result"
    }
   ],
   "source": [
    "sorted(x, key=lambda x: [int(n) for n in x.split('_')])"
   ]
  },
  {
   "cell_type": "code",
   "execution_count": null,
   "metadata": {},
   "outputs": [],
   "source": []
  }
 ],
 "metadata": {
  "kernelspec": {
   "display_name": "Python 3",
   "language": "python",
   "name": "python3"
  },
  "language_info": {
   "codemirror_mode": {
    "name": "ipython",
    "version": 3
   },
   "file_extension": ".py",
   "mimetype": "text/x-python",
   "name": "python",
   "nbconvert_exporter": "python",
   "pygments_lexer": "ipython3",
   "version": "3.6.3"
  }
 },
 "nbformat": 4,
 "nbformat_minor": 2
}

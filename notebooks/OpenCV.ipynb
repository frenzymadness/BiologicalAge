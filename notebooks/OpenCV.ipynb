{
 "cells": [
  {
   "cell_type": "code",
   "execution_count": 1,
   "metadata": {},
   "outputs": [],
   "source": [
    "%matplotlib inline"
   ]
  },
  {
   "cell_type": "code",
   "execution_count": 2,
   "metadata": {},
   "outputs": [],
   "source": [
    "from glob import glob\n",
    "from PIL import Image\n",
    "from matplotlib import pyplot as plt\n",
    "import numpy as np\n",
    "from IPython.core.display import display_html, display, HTML\n",
    "from scipy.spatial.distance import *\n",
    "import cv2"
   ]
  },
  {
   "cell_type": "code",
   "execution_count": 3,
   "metadata": {},
   "outputs": [],
   "source": [
    "images = {}\n",
    "for image_path in glob('RTG/B/*'):\n",
    "    name = image_path.split('/')[-1]\n",
    "    images[name] = Image.open(image_path)"
   ]
  },
  {
   "cell_type": "code",
   "execution_count": 10,
   "metadata": {
    "scrolled": true
   },
   "outputs": [],
   "source": [
    "histograms = {}\n",
    "for name, image in images.items():\n",
    "    histograms[name] = np.histogram(image.getdata(), bins=255, normed=False)[0].astype('float32')"
   ]
  },
  {
   "cell_type": "code",
   "execution_count": 11,
   "metadata": {},
   "outputs": [
    {
     "data": {
      "text/plain": [
       "<Container object of 255 artists>"
      ]
     },
     "execution_count": 11,
     "metadata": {},
     "output_type": "execute_result"
    },
    {
     "data": {
      "image/png": "[encoded data removed]",
      "text/plain": [
       "<matplotlib.figure.Figure at 0x7f3c36710cf8>"
      ]
     },
     "metadata": {},
     "output_type": "display_data"
    }
   ],
   "source": [
    "plt.bar(range(len(histograms['8_0_b.PNG'])), height=histograms['8_0_b.PNG'])"
   ]
  },
  {
   "cell_type": "code",
   "execution_count": 12,
   "metadata": {},
   "outputs": [],
   "source": [
    "methods = [\n",
    "    cv2.HISTCMP_CORREL,\n",
    "    cv2.HISTCMP_CHISQR,\n",
    "    cv2.HISTCMP_CHISQR_ALT,\n",
    "    cv2.HISTCMP_INTERSECT,\n",
    "    cv2.HISTCMP_BHATTACHARYYA,\n",
    "]"
   ]
  },
  {
   "cell_type": "code",
   "execution_count": 16,
   "metadata": {},
   "outputs": [],
   "source": [
    "method = methods[1]"
   ]
  },
  {
   "cell_type": "code",
   "execution_count": 17,
   "metadata": {},
   "outputs": [],
   "source": [
    "data = {}\n",
    "for image1 in images:\n",
    "    data[image1] = {}\n",
    "    for image2 in images:\n",
    "        hist_1 = histograms[image1]\n",
    "        hist_2 = histograms[image2]\n",
    "        data[image1][image2] = cv2.compareHist(hist_1, hist_2, method)"
   ]
  },
  {
   "cell_type": "code",
   "execution_count": 18,
   "metadata": {
    "scrolled": false
   },
   "outputs": [
    {
     "data": {
      "text/plain": [
       "[('1_6_b.PNG', 352886.70458966156),\n",
       " ('9_0_b.PNG', 232272.093602331),\n",
       " ('6_0_b.PNG', 216023.75102155047),\n",
       " ('14_0_b.PNG', 204427.37567116658),\n",
       " ('0_10_b.PNG', 203613.8054707205),\n",
       " ('5_0_b.PNG', 186898.35470851185),\n",
       " ('3_6_b.PNG', 163819.38048045858),\n",
       " ('16_0_b.PNG', 147051.63633105133),\n",
       " ('1_8_b.PNG', 141670.35759833237),\n",
       " ('1_4_b.PNG', 134408.03900503227),\n",
       " ('10_0_b.PNG', 134260.52113558492),\n",
       " ('18_0_b.PNG', 129870.10447251989),\n",
       " ('2_4_b.PNG', 118593.4910114878),\n",
       " ('1_0_b.PNG', 99428.46962713909),\n",
       " ('1_2_b.PNG', 97963.05436034329),\n",
       " ('0_8_b.PNG', 92798.4958418893),\n",
       " ('4_0_b.PNG', 86079.12734762282),\n",
       " ('3_0_b.PNG', 81952.53532686674),\n",
       " ('7_0_b.PNG', 77598.98625461548),\n",
       " ('15_0_b.PNG', 76163.72319831875),\n",
       " ('2_0_b.PNG', 65052.10660461709),\n",
       " ('13_0_b.PNG', 62749.271946728106),\n",
       " ('17_0_b.PNG', 60208.34194274728),\n",
       " ('2_6_b.PNG', 56578.985703119375),\n",
       " ('12_0_b.PNG', 53636.67110478954),\n",
       " ('5_6_b.PNG', 29104.62707604406),\n",
       " ('4_6_b.PNG', 27616.316229291322),\n",
       " ('11_0_b.PNG', 12577.29011679382),\n",
       " ('8_0_b.PNG', 0.0)]"
      ]
     },
     "execution_count": 18,
     "metadata": {},
     "output_type": "execute_result"
    }
   ],
   "source": [
    "sorted(data['8_0_b.PNG'].items(), key=lambda x: x[1], reverse=True)"
   ]
  },
  {
   "cell_type": "code",
   "execution_count": null,
   "metadata": {},
   "outputs": [],
   "source": []
  },
  {
   "cell_type": "code",
   "execution_count": null,
   "metadata": {},
   "outputs": [],
   "source": []
  }
 ],
 "metadata": {
  "kernelspec": {
   "display_name": "Python 3",
   "language": "python",
   "name": "python3"
  },
  "language_info": {
   "codemirror_mode": {
    "name": "ipython",
    "version": 3
   },
   "file_extension": ".py",
   "mimetype": "text/x-python",
   "name": "python",
   "nbconvert_exporter": "python",
   "pygments_lexer": "ipython3",
   "version": "3.6.4"
  }
 },
 "nbformat": 4,
 "nbformat_minor": 2
}
